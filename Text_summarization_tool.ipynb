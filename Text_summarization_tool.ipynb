{
  "cells": [
    {
      "cell_type": "markdown",
      "metadata": {
        "id": "view-in-github",
        "colab_type": "text"
      },
      "source": [
        "<a href=\"https://colab.research.google.com/github/satya748/Codtech-projects/blob/main/Text_summarization_tool.ipynb\" target=\"_parent\"><img src=\"https://colab.research.google.com/assets/colab-badge.svg\" alt=\"Open In Colab\"/></a>"
      ]
    },
    {
      "cell_type": "code",
      "source": [
        "from transformers import pipeline\n",
        "import os\n",
        "\n",
        "# Load the NLP summarizer pipeline\n",
        "summarizer = pipeline(\"summarization\")\n",
        "\n",
        "def read_text_file(file_path):\n",
        "    if not os.path.exists(file_path):\n",
        "        raise FileNotFoundError(\"File does not exist.\")\n",
        "    if not file_path.endswith('.txt'):\n",
        "        raise ValueError(\"Only .txt files are supported.\")\n",
        "\n",
        "    with open(file_path, 'r', encoding='utf-8') as file:\n",
        "        return file.read()\n",
        "\n",
        "def summarize_text(text, min_len=30, max_len=150):\n",
        "    if len(text) > 4000:\n",
        "        text = text[:4000]  # Cut off long text to avoid input limits\n",
        "    summary = summarizer(text, max_length=max_len, min_length=min_len, do_sample=False)\n",
        "    return summary[0]['summary_text']\n",
        "\n",
        "def main():\n",
        "    print(\"Choose input method:\")\n",
        "    print(\"1. Enter text manually\")\n",
        "    print(\"2. Provide path to a .txt file\")\n",
        "    choice = input(\"Enter 1 or 2: \").strip()\n",
        "\n",
        "    try:\n",
        "        if choice == '1':\n",
        "            input_text = input(\"\\nEnter your text:\\n\")\n",
        "        elif choice == '2':\n",
        "            file_path = input(\"\\nEnter the path to your .txt file: \").strip()\n",
        "            input_text = read_text_file(file_path)\n",
        "        else:\n",
        "            print(\"Invalid choice.\")\n",
        "            return\n",
        "\n",
        "        print(\"\\nSummarizing content...\\n\")\n",
        "        summary = summarize_text(input_text)\n",
        "\n",
        "        print(\"=== SUMMARY ===\")\n",
        "        print(summary)\n",
        "\n",
        "    except Exception as e:\n",
        "        print(f\"Error: {e}\")\n",
        "\n",
        "if __name__ == \"__main__\":\n",
        "    main()\n"
      ],
      "metadata": {
        "id": "EXs-bqNqcmZM",
        "outputId": "f4927ff9-835d-4f8f-a53b-9e9bd1fc2c9f",
        "colab": {
          "base_uri": "https://localhost:8080/"
        }
      },
      "execution_count": null,
      "outputs": [
        {
          "output_type": "stream",
          "name": "stderr",
          "text": [
            "No model was supplied, defaulted to sshleifer/distilbart-cnn-12-6 and revision a4f8f3e (https://huggingface.co/sshleifer/distilbart-cnn-12-6).\n",
            "Using a pipeline without specifying a model name and revision in production is not recommended.\n",
            "Device set to use cpu\n"
          ]
        },
        {
          "name": "stdout",
          "output_type": "stream",
          "text": [
            "Choose input method:\n",
            "1. Enter text manually\n",
            "2. Provide path to a .txt file\n",
            "Enter 1 or 2: 1\n",
            "\n",
            "Enter your text:\n",
            "Nature encompasses the natural world, including everything from the sun and moon to the smallest insect, and everything in between. It's the foundation of our planet, providing essential resources like clean air and water, and sustaining a vast array of life forms. Nature's beauty and complexity inspire awe and wonder, reminding us of the delicate balance and interconnectedness of all living things. \n"
          ]
        },
        {
          "output_type": "stream",
          "name": "stderr",
          "text": [
            "Your max_length is set to 150, but your input_length is only 76. Since this is a summarization task, where outputs shorter than the input are typically wanted, you might consider decreasing max_length manually, e.g. summarizer('...', max_length=38)\n"
          ]
        },
        {
          "output_type": "stream",
          "name": "stdout",
          "text": [
            "\n",
            "Summarizing content...\n",
            "\n",
            "=== SUMMARY ===\n",
            " Nature encompasses the natural world, including everything from the sun and moon to the smallest insect . It's the foundation of our planet, providing essential resources like clean air and water . Nature's beauty and complexity inspire awe and wonder, reminding us of the delicate balance and interconnectedness of all living things .\n"
          ]
        }
      ]
    }
  ],
  "metadata": {
    "colab": {
      "toc_visible": true,
      "provenance": [],
      "include_colab_link": true
    },
    "kernelspec": {
      "display_name": "Python 3",
      "name": "python3"
    }
  },
  "nbformat": 4,
  "nbformat_minor": 0
}